{
 "cells": [
  {
   "cell_type": "code",
   "execution_count": 2,
   "metadata": {},
   "outputs": [],
   "source": [
    "import numpy as np\n",
    "import pandas as pd\n",
    "import biopandas.pdb as bp\n",
    "# install via\n",
    "# \"conda install biopython\"\n",
    "import Bio"
   ]
  },
  {
   "cell_type": "code",
   "execution_count": 9,
   "metadata": {},
   "outputs": [],
   "source": [
    "import Bio.Data.IUPACData"
   ]
  },
  {
   "cell_type": "code",
   "execution_count": 12,
   "metadata": {},
   "outputs": [],
   "source": [
    "bb2lbl = { 0 : \"s\", 1 : \"b\" }\n",
    "idlevel = \"residue\"\n",
    "inpdb = \"WT.pcca2.r_00000.noh.pdb\"\n",
    "df_pdb = bp.PandasPdb().read_pdb(inpdb).df[\"ATOM\"][['chain_id', 'residue_number', 'residue_name', 'atom_name']]\n",
    "df_pdb.columns = [\"seg\", \"res\", \"rnm\", \"anm\"]\n",
    "if idlevel == \"residue\":\n",
    "    df_pdb = df_pdb[[\"seg\", \"res\", \"rnm\"]].drop_duplicates().query(\"seg == 'C'\")\n",
    "df_pdb = df_pdb.query(\"rnm not in ['ACE', 'NHE']\")\n",
    "df_pdb[\"bb\"] = 0\n",
    "df_tmp = df_pdb.copy()\n",
    "df_tmp[\"bb\"] = 1\n",
    "df_pdb = pd.concat([df_pdb, df_tmp], sort = True)\n",
    "df_pdb = df_pdb.sort_index().reset_index(drop = True)\n",
    "df_pdb[\"rnm\"] = np.vectorize(Bio.Data.IUPACData.protein_letters_3to1.get)(df_pdb[\"rnm\"].apply(lambda x : x.title()))\n",
    "df_pdb[\"rgn\"] = df_pdb[\"rnm\"].astype(str) + df_pdb[\"res\"].astype(str) + np.vectorize(bb2lbl.get)(df_pdb[\"bb\"])\n",
    "df_pdb.drop(\"rnm\" ,axis = 1, inplace = True)\n",
    "df_pdb[\"res\"] = df_pdb[\"res\"].apply(lambda x : [x])\n",
    "df_pdb = pd.concat(\n",
    "[pd.DataFrame({ \"rgn\" : 2 * [ \"MHCII\", \"MHCII\"], \"seg\" : 2 * [\"A\", \"B\"], \"res\" : 2 * [range(4, 185), range(4, 191)], \"bb\" : [0,0,1,1]}),\n",
    " df_pdb], sort = True)\n",
    "df_pdb = df_pdb[[\"rgn\", \"seg\", \"res\", \"bb\"]]\n",
    "df_pdb.to_csv(\"df_rgn_seg_res_bb.dat\", sep = \"\\t\", index = False)"
   ]
  },
  {
   "cell_type": "code",
   "execution_count": 21,
   "metadata": {},
   "outputs": [
    {
     "data": {
      "text/plain": [
       "{'Ala': 'A',\n",
       " 'Cys': 'C',\n",
       " 'Asp': 'D',\n",
       " 'Glu': 'E',\n",
       " 'Phe': 'F',\n",
       " 'Gly': 'G',\n",
       " 'His': 'H',\n",
       " 'Ile': 'I',\n",
       " 'Lys': 'K',\n",
       " 'Leu': 'L',\n",
       " 'Met': 'M',\n",
       " 'Asn': 'N',\n",
       " 'Pro': 'P',\n",
       " 'Gln': 'Q',\n",
       " 'Arg': 'R',\n",
       " 'Ser': 'S',\n",
       " 'Thr': 'T',\n",
       " 'Val': 'V',\n",
       " 'Trp': 'W',\n",
       " 'Tyr': 'Y'}"
      ]
     },
     "execution_count": 21,
     "metadata": {},
     "output_type": "execute_result"
    }
   ],
   "source": [
    "Bio.Data.IUPACData.protein_letters_3to1['Hip']"
   ]
  },
  {
   "cell_type": "code",
   "execution_count": 27,
   "metadata": {},
   "outputs": [],
   "source": [
    "bb2lbl = { 0 : \"s\", 1 : \"b\" }\n",
    "idlevel = \"residue\"\n",
    "inpdb = \"WT.pcca2.r_00000.noh.pdb\"\n",
    "df_pdb = bp.PandasPdb().read_pdb(inpdb).df[\"ATOM\"][['chain_id', 'residue_number', 'residue_name', 'atom_name']]\n",
    "df_pdb.columns = [\"seg\", \"res\", \"rnm\", \"anm\"]\n",
    "if idlevel == \"residue\":\n",
    "    df_pdb = df_pdb[[\"seg\", \"res\", \"rnm\"]].drop_duplicates().query(\"seg in ['A', 'B', 'C']\")\n",
    "\n",
    "df_pdb = df_pdb.query(\"rnm not in ['ACE', 'NHE']\")\n",
    "df_pdb = df_pdb.sort_index().reset_index(drop = True)\n",
    "#df_pdb[\"rnm\"] = np.vectorize(Bio.Data.IUPACData.protein_letters_3to1.get)(df_pdb[\"rnm\"].apply(lambda x : x.title()))\n",
    "df_pdb[\"rnm\"] = df_pdb[\"rnm\"].apply(lambda x : x.title())\n",
    "df_pdb[\"rgn\"] = df_pdb[\"seg\"] + df_pdb[\"res\"].astype(str)\n",
    "df_pdb.drop(\"rnm\" ,axis = 1, inplace = True)\n",
    "df_pdb[\"res\"] = df_pdb[\"res\"].apply(lambda x : [x])\n",
    "#df_pdb = pd.concat(\n",
    "#[pd.DataFrame({ \"rgn\" : 2 * [ \"MHCII\", \"MHCII\"], \"seg\" : 2 * [\"A\", \"B\"], \"res\" : 2 * [range(4, 185), range(4, 191)], \"bb\" : [0,0,1,1]}),\n",
    "# df_pdb], sort = True)\n",
    "df_pdb = df_pdb[[\"rgn\", \"seg\", \"res\"]]\n",
    "df_pdb.to_csv(\"df_rgn_seg_res_bb.dat\", sep = \"\\t\", index = False)"
   ]
  },
  {
   "cell_type": "code",
   "execution_count": null,
   "metadata": {},
   "outputs": [],
   "source": []
  }
 ],
 "metadata": {
  "kernelspec": {
   "display_name": "Python 3",
   "language": "python",
   "name": "python3"
  },
  "language_info": {
   "codemirror_mode": {
    "name": "ipython",
    "version": 3
   },
   "file_extension": ".py",
   "mimetype": "text/x-python",
   "name": "python",
   "nbconvert_exporter": "python",
   "pygments_lexer": "ipython3",
   "version": "3.7.3"
  }
 },
 "nbformat": 4,
 "nbformat_minor": 2
}
